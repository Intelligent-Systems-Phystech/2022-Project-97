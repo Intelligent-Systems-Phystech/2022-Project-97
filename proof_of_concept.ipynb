{
 "cells": [
  {
   "cell_type": "markdown",
   "id": "90da4bc8",
   "metadata": {},
   "source": [
    "# Демонстрация Net2Net\n",
    "**Пояснение:** в ноутбуке реализован эксперимент с двуслойной нейросетью (матрица - ReLU - матрица).\n",
    "\n",
    "Реализован метод net2net и две его модификации:\n",
    "- net2net с сэмплированием через Gumbel-Softmax (в исходном Net2Net сэмплирование происходит случайно)\n",
    "- net2net с \"размазыванием\" нейронов через softmax.\n",
    "\n",
    "Критерий качества: устойчивость при добавлении шума в параметры.\n",
    "\n",
    "NB: изначально я хотел использовать в качестве критерия FSGM-атаки, но оказалось (что вполне логично), что градиент, получаемый от всех методов одинаков и устойчивость к атакам также одинакова :("
   ]
  },
  {
   "cell_type": "code",
   "execution_count": 1,
   "id": "01c4ba25",
   "metadata": {},
   "outputs": [],
   "source": [
    "import torch\n",
    "import torchvision\n",
    "import tqdm\n",
    "import random\n",
    "import numpy as np\n",
    "import matplotlib.pylab as plt\n",
    "%matplotlib inline\n"
   ]
  },
  {
   "cell_type": "code",
   "execution_count": 2,
   "id": "34e8a35a",
   "metadata": {},
   "outputs": [],
   "source": [
    "batch_size = 256\n",
    "teacher_hidden = 20\n",
    "student_hidden = 100"
   ]
  },
  {
   "cell_type": "markdown",
   "id": "cb53becc",
   "metadata": {},
   "source": [
    "## Черновые прикидочные эксперименты\n",
    "\n",
    "Пусть пока останутся здесь"
   ]
  },
  {
   "cell_type": "code",
   "execution_count": 3,
   "id": "d1eada22",
   "metadata": {},
   "outputs": [
    {
     "name": "stdout",
     "output_type": "stream",
     "text": [
      "tensor([[-0.4979, -1.4378]])\n",
      "tensor([[-0.4979, -1.4378]])\n"
     ]
    }
   ],
   "source": [
    "# some tests\n",
    "Wt1 = torch.randn(3,4)\n",
    "Wt2 = torch.randn(4,2)\n",
    "x = torch.randn(1, 3)\n",
    "print (x@Wt1@Wt2)\n",
    "\n",
    "Ws1 = torch.randn(3,5)\n",
    "Ws2 = torch.randn(5,2)\n",
    "Ws1[:,:3] = Wt1[:,:3]\n",
    "Ws1[:,3] = Wt1[:,3]\n",
    "Ws1[:,4] = Wt1[:,3]\n",
    "\n",
    "Ws2[:3] = Wt2[:3]\n",
    "Ws2[3] = Wt2[3]/2\n",
    "Ws2[4] = Wt2[3]/2\n",
    "\n",
    "print (x@Ws1@Ws2)\n"
   ]
  },
  {
   "cell_type": "code",
   "execution_count": 4,
   "id": "2dfd7f61",
   "metadata": {},
   "outputs": [
    {
     "name": "stdout",
     "output_type": "stream",
     "text": [
      "tensor([[ 150.5751,   65.1792,  -55.6179,   98.8789, -263.1948,   70.9688,\n",
      "           -6.8446, -225.7218,  119.5345, -271.9460]])\n",
      "tensor([[ 150.5747,   65.1792,  -55.6180,   98.8788, -263.1952,   70.9688,\n",
      "           -6.8447, -225.7222,  119.5342, -271.9459]])\n"
     ]
    }
   ],
   "source": [
    "# some tests\n",
    "teacher_hidden = 20\n",
    "student_hidden = 100\n",
    "inp = 784\n",
    "out = 10\n",
    "\n",
    "Wt1 = torch.randn(inp,teacher_hidden)\n",
    "Wt2 = torch.randn(teacher_hidden,out)\n",
    "x = torch.randn(1, inp)\n",
    "print (x@Wt1@Wt2)\n",
    "\n",
    "Ws1 = torch.randn(inp,student_hidden)\n",
    "Ws2 = torch.randn(student_hidden,out)\n",
    "Ws1[:,:teacher_hidden-1] = Wt1[:,:teacher_hidden-1]\n",
    "for i in range(teacher_hidden-1, student_hidden):\n",
    "    Ws1[:,i] = Wt1[:,teacher_hidden-1]\n",
    "\n",
    "Ws2[:teacher_hidden-1] = Wt2[:teacher_hidden-1]\n",
    "for i in range(teacher_hidden-1, student_hidden):\n",
    "    Ws2[i] = Wt2[teacher_hidden-1]/(student_hidden - teacher_hidden + 1)\n",
    "\n",
    "print (x@Ws1@Ws2)\n"
   ]
  },
  {
   "cell_type": "code",
   "execution_count": 5,
   "id": "84e25897",
   "metadata": {},
   "outputs": [
    {
     "name": "stdout",
     "output_type": "stream",
     "text": [
      "tensor([[ -10.3410, -194.3629,   57.7969,  236.8467,   40.6925, -116.4016,\n",
      "          292.7987,  -14.9594,   28.4986, -161.6611]])\n",
      "tensor([[ -10.3410, -194.3629,   57.7969,  236.8467,   40.6925, -116.4016,\n",
      "          292.7987,  -14.9594,   28.4986, -161.6611]])\n",
      "tensor(1.0395e-05)\n"
     ]
    }
   ],
   "source": [
    "# some tests\n",
    "teacher_hidden = 20\n",
    "student_hidden = 100\n",
    "inp = 784\n",
    "out = 10\n",
    "mapping_num = [1]*teacher_hidden\n",
    "mapping = {}\n",
    "Wt1 = torch.randn(inp,teacher_hidden)\n",
    "Wt2 = torch.randn(teacher_hidden,out)\n",
    "x = torch.randn(1, inp)\n",
    "print (x@Wt1@Wt2)\n",
    "\n",
    "Ws1 = torch.randn(inp,student_hidden)\n",
    "Ws2 = torch.randn(student_hidden,out)\n",
    "Ws1[:,:teacher_hidden] = Wt1[:,:teacher_hidden]\n",
    "for i in range(teacher_hidden, student_hidden):\n",
    "    id = random.randint(0, teacher_hidden-1)\n",
    "    mapping_num[id]+=1\n",
    "    mapping[i] = id\n",
    "    Ws1[:,i] = Wt1[:,id]\n",
    "\n",
    "Ws2[:teacher_hidden] = Wt2[:teacher_hidden]\n",
    "for i in range(student_hidden):\n",
    "    id = mapping.get(i, i)\n",
    "    num = mapping_num[id] \n",
    "    Ws2[i] = Wt2[id]/(num)\n",
    "\n",
    "print (x@Ws1@Ws2)\n",
    "print (abs((x@Ws1@Ws2 - x@Wt1@Wt2)).mean())"
   ]
  },
  {
   "cell_type": "code",
   "execution_count": 6,
   "id": "9733067a",
   "metadata": {},
   "outputs": [],
   "source": []
  },
  {
   "cell_type": "code",
   "execution_count": 7,
   "id": "1fd685dc",
   "metadata": {},
   "outputs": [],
   "source": [
    "Ws1, Ws2 = net2net(Wt1, Wt2, teacher_hidden, student_hidden, 10)"
   ]
  },
  {
   "cell_type": "code",
   "execution_count": 8,
   "id": "c2819b09",
   "metadata": {},
   "outputs": [
    {
     "name": "stderr",
     "output_type": "stream",
     "text": [
      "/usr/local/lib/python3.8/dist-packages/torch/nn/functional.py:1795: UserWarning: nn.functional.tanh is deprecated. Use torch.tanh instead.\n",
      "  warnings.warn(\"nn.functional.tanh is deprecated. Use torch.tanh instead.\")\n"
     ]
    },
    {
     "data": {
      "text/plain": [
       "tensor(1.3113e-07)"
      ]
     },
     "execution_count": 8,
     "metadata": {},
     "output_type": "execute_result"
    }
   ],
   "source": [
    "(torch.nn.functional.tanh(x@Ws1)@Ws2 - torch.nn.functional.tanh(x@Wt1)@Wt2).mean()"
   ]
  },
  {
   "cell_type": "markdown",
   "id": "b843a5fc",
   "metadata": {},
   "source": [
    "## Обучение модели на MNIST"
   ]
  },
  {
   "cell_type": "code",
   "execution_count": 9,
   "id": "b2417940",
   "metadata": {},
   "outputs": [],
   "source": [
    "\n",
    "train_loader = torch.utils.data.DataLoader(\n",
    "  torchvision.datasets.MNIST('./files/', train=True, download=True,\n",
    "                             transform=torchvision.transforms.Compose([\n",
    "                               torchvision.transforms.ToTensor(),\n",
    "                               torchvision.transforms.Normalize(\n",
    "                                 (0.1307,), (0.3081,)), torchvision.transforms.Lambda(torch.flatten)])),\n",
    "  batch_size=batch_size, shuffle=False)\n",
    "\n",
    "test_loader = torch.utils.data.DataLoader(\n",
    "  torchvision.datasets.MNIST('./files/', train=False, download=True,\n",
    "                             transform=torchvision.transforms.Compose([\n",
    "                               torchvision.transforms.ToTensor(),\n",
    "                               torchvision.transforms.Normalize(\n",
    "                                 (0.1307,), (0.3081,)), torchvision.transforms.Lambda(torch.flatten)])),\n",
    "  batch_size=batch_size, shuffle=False)"
   ]
  },
  {
   "cell_type": "code",
   "execution_count": 10,
   "id": "4d2b9c74",
   "metadata": {},
   "outputs": [
    {
     "data": {
      "application/vnd.jupyter.widget-view+json": {
       "model_id": "14b0f16a2b7f4af0873a77efc417c6a2",
       "version_major": 2,
       "version_minor": 0
      },
      "text/plain": [
       "  0%|          | 0/235 [00:00<?, ?it/s]"
      ]
     },
     "metadata": {},
     "output_type": "display_data"
    },
    {
     "name": "stdout",
     "output_type": "stream",
     "text": [
      "epoch 0: 0.9101999998092651\n"
     ]
    },
    {
     "data": {
      "application/vnd.jupyter.widget-view+json": {
       "model_id": "3d433b7f45e2440fbe7c44343c4a76ff",
       "version_major": 2,
       "version_minor": 0
      },
      "text/plain": [
       "  0%|          | 0/235 [00:00<?, ?it/s]"
      ]
     },
     "metadata": {},
     "output_type": "display_data"
    },
    {
     "name": "stdout",
     "output_type": "stream",
     "text": [
      "epoch 1: 0.9269000291824341\n"
     ]
    },
    {
     "data": {
      "application/vnd.jupyter.widget-view+json": {
       "model_id": "01f9a61419614b6f9a57826083faae21",
       "version_major": 2,
       "version_minor": 0
      },
      "text/plain": [
       "  0%|          | 0/235 [00:00<?, ?it/s]"
      ]
     },
     "metadata": {},
     "output_type": "display_data"
    },
    {
     "name": "stdout",
     "output_type": "stream",
     "text": [
      "epoch 2: 0.9376000165939331\n"
     ]
    },
    {
     "data": {
      "application/vnd.jupyter.widget-view+json": {
       "model_id": "d7adf35de03f46ff957df4bef789e1fd",
       "version_major": 2,
       "version_minor": 0
      },
      "text/plain": [
       "  0%|          | 0/235 [00:00<?, ?it/s]"
      ]
     },
     "metadata": {},
     "output_type": "display_data"
    },
    {
     "name": "stdout",
     "output_type": "stream",
     "text": [
      "epoch 3: 0.9420999884605408\n"
     ]
    },
    {
     "data": {
      "application/vnd.jupyter.widget-view+json": {
       "model_id": "a6ff8369166b4be98140f325f738d6c6",
       "version_major": 2,
       "version_minor": 0
      },
      "text/plain": [
       "  0%|          | 0/235 [00:00<?, ?it/s]"
      ]
     },
     "metadata": {},
     "output_type": "display_data"
    },
    {
     "name": "stdout",
     "output_type": "stream",
     "text": [
      "epoch 4: 0.9434999823570251\n"
     ]
    }
   ],
   "source": [
    "\n",
    "teacher = torch.nn.Sequential(torch.nn.Linear(784, teacher_hidden, bias=False),\n",
    "                              torch.nn.ReLU(), torch.nn.Linear(teacher_hidden, 10, bias=False))\n",
    "crit = torch.nn.CrossEntropyLoss()\n",
    "optim = torch.optim.Adam(teacher.parameters())\n",
    "\n",
    "for e in range(5):\n",
    "    for x,y in tqdm.notebook.tqdm(train_loader):\n",
    "        optim.zero_grad()\n",
    "        out = teacher(x)\n",
    "        loss = crit(out, y)\n",
    "        loss.backward()\n",
    "        optim.step()\n",
    "    teacher.eval()\n",
    "    total = 0\n",
    "    correct = 0\n",
    "    for x,y in test_loader:\n",
    "        out = teacher(x)\n",
    "        total+=out.shape[0]\n",
    "        correct += torch.eq(out.argmax(1),y).sum()\n",
    "    teacher.train()\n",
    "    print (f'epoch {e}: {correct/total}')"
   ]
  },
  {
   "cell_type": "markdown",
   "id": "c31bfa40",
   "metadata": {},
   "source": [
    "## Исходный Net2Net"
   ]
  },
  {
   "cell_type": "code",
   "execution_count": null,
   "id": "3518a148",
   "metadata": {},
   "outputs": [],
   "source": [
    "def net2net(Wt1, Wt2, teacher_hidden, student_hidden, out_num, debug=False):\n",
    "    mapping_num = [1]*teacher_hidden\n",
    "    mapping = {}\n",
    "\n",
    "    Ws1 = torch.randn(inp,student_hidden)\n",
    "    Ws2 = torch.randn(student_hidden,out_num)\n",
    "    Ws1[:,:teacher_hidden] = Wt1[:,:teacher_hidden]\n",
    "    for i in range(teacher_hidden, student_hidden):\n",
    "        if debug:\n",
    "            id = teacher_hidden-1\n",
    "        else:\n",
    "            id = random.randint(0, teacher_hidden-1)\n",
    "        mapping_num[id]+=1\n",
    "        mapping[i] = id\n",
    "        Ws1[:,i] = Wt1[:,id]\n",
    "\n",
    "    Ws2[:teacher_hidden] = Wt2[:teacher_hidden]\n",
    "    for i in range(student_hidden):\n",
    "        id = mapping.get(i, i)\n",
    "        num = mapping_num[id] \n",
    "        Ws2[i] = Wt2[id]/(num)\n",
    "    return Ws1, Ws2"
   ]
  },
  {
   "cell_type": "code",
   "execution_count": 35,
   "id": "c8faddff",
   "metadata": {},
   "outputs": [
    {
     "name": "stderr",
     "output_type": "stream",
     "text": [
      "<ipython-input-35-7871cb6c20f5>:14: TqdmDeprecationWarning: This function will be removed in tqdm==5.0.0\n",
      "Please use `tqdm.notebook.tqdm` instead of `tqdm.tqdm_notebook`\n",
      "  for e in tqdm.tqdm_notebook(epses):\n"
     ]
    },
    {
     "data": {
      "application/vnd.jupyter.widget-view+json": {
       "model_id": "d30a38750c62426eae5aa21e1aff4e08",
       "version_major": 2,
       "version_minor": 0
      },
      "text/plain": [
       "  0%|          | 0/7 [00:00<?, ?it/s]"
      ]
     },
     "metadata": {},
     "output_type": "display_data"
    }
   ],
   "source": [
    "yplot = []\n",
    "epses = [0.0, 0.01, 1e-3, 1e-2, 1e-1, 0.2, 0.3]\n",
    "for _ in range(1):\n",
    "    student = torch.nn.Sequential(torch.nn.Linear(784, student_hidden, bias=False),\n",
    "                                  torch.nn.ReLU(), torch.nn.Linear(student_hidden, 10, bias=False))\n",
    "\n",
    "    Wt1 = teacher[0].weight.T\n",
    "    Wt2 = teacher[2].weight.T\n",
    "    Ws1, Ws2 = net2net(Wt1, Wt2, teacher_hidden, student_hidden, 10)\n",
    "    student[0].weight.data = Ws1.T \n",
    "    student[2].weight.data = Ws2.T \n",
    "    student.eval()\n",
    "    yplot.append([])\n",
    "    for e in tqdm.tqdm_notebook(epses):\n",
    "        student[0].weight.data = Ws1.T + torch.randn(Ws1.T.shape)*e\n",
    "        student[2].weight.data = Ws2.T+ torch.randn(Ws2.T.shape)*e\n",
    "        total = 0\n",
    "        correct = 0\n",
    "        for x,y in test_loader:\n",
    "            #x.requires_grad = True\n",
    "            #student.zero_grad()\n",
    "            out = student(x)\n",
    "            #loss = crit(out, y)\n",
    "            #loss.backward()\n",
    "            #grad = x.grad\n",
    "            \n",
    "            #out = student(x + torch.sign(grad) * e)\n",
    "            total+=out.shape[0]\n",
    "            correct += torch.eq(out.argmax(1),y).sum()\n",
    "            \n",
    "        yplot[-1].append(correct/total)"
   ]
  },
  {
   "cell_type": "markdown",
   "id": "4982cbc3",
   "metadata": {},
   "source": [
    "## Net2Net с гумбель-софтмакс\n",
    "\n",
    "При обучении оптимизируется критерий ||f(w, x) - f(w + eps, x)|| -> 0, при этом w должно давать те же значения выхода, что и исходной сети.\n",
    "\n",
    "В процессе обучения постепенно минимизируется температура распределения (что делает распределение ближе к дискретному)"
   ]
  },
  {
   "cell_type": "code",
   "execution_count": null,
   "id": "ae7d5905",
   "metadata": {},
   "outputs": [],
   "source": [
    "def train_net2net(Wt1, Wt2, teacher_hidden, student_hidden, out_num,  train_loader, sigma, temp_schedule = [1.0, 0.5, 0.1, 1e-2, 1e-3],):\n",
    "    weights = torch.nn.Parameter(torch.randn(student_hidden - teacher_hidden, teacher_hidden))\n",
    "    optim = torch.optim.Adam([weights], lr=1e-1)\n",
    "    \n",
    "    for t in temp_schedule:\n",
    "        tq = tqdm.tqdm_notebook(train_loader)\n",
    "        losses = []\n",
    "        #print (torch.distributions.RelaxedOneHotCategorical(t, logits = weights).probs)\n",
    "        for x,y in tq:\n",
    "            optim.zero_grad()\n",
    "            weights_sm_ = torch.distributions.RelaxedOneHotCategorical(t, logits = weights).rsample()\n",
    "            weights_sm = torch.cat([torch.eye(teacher_hidden), weights_sm_])\n",
    "            Ws1 = Wt1 @ weights_sm.T\n",
    "            Ws2 = (weights_sm/weights_sm.sum(0)) @ Wt2\n",
    "            Ws1_ = Ws1 + torch.randn(Ws1.shape) * sigma\n",
    "            Ws2_ = Ws2 + torch.randn(Ws2.shape) * sigma\n",
    "            out = torch.nn.functional.relu(x @ Ws1) @ Ws2\n",
    "            out_ = torch.nn.functional.relu(x @ Ws1_) @ Ws2_\n",
    "            loss = ((out - out_)**2).mean()\n",
    "            loss.backward()\n",
    "            optim.step()\n",
    "            losses.append(loss.item())\n",
    "            tq.set_description(str(np.mean(losses[-50:])))\n",
    "        #print (torch.distributions.RelaxedOneHotCategorical(t, logits = weights).probs)\n",
    "    weights_sm = torch.round(weights_sm)\n",
    "    Ws1 = Wt1 @ weights_sm.T\n",
    "    Ws2 = (weights_sm/weights_sm.sum(0)) @ Wt2\n",
    "            \n",
    "    return Ws1, Ws2\n",
    "\n",
    "Ws1, Ws2 = train_net2net(Wt1, Wt2, teacher_hidden, student_hidden, 10, train_loader, 1e-3)"
   ]
  },
  {
   "cell_type": "code",
   "execution_count": null,
   "id": "3f984bb4",
   "metadata": {},
   "outputs": [],
   "source": [
    "yplot2 = []\n",
    "epses = [0.0, 0.01, 1e-3, 1e-2, 1e-1, 0.2, 0.3]\n",
    "for _ in range(1):\n",
    "    student = torch.nn.Sequential(torch.nn.Linear(784, student_hidden, bias=False),\n",
    "                                  torch.nn.ReLU(), torch.nn.Linear(student_hidden, 10, bias=False))\n",
    "\n",
    "    Wt1 = teacher[0].weight.T\n",
    "    Wt2 = teacher[2].weight.T\n",
    "    Ws1, Ws2 = train_net2net(Wt1, Wt2, teacher_hidden, student_hidden, 10, train_loader, 1e-3)\n",
    "\n",
    "    student.eval()\n",
    "    yplot2.append([])\n",
    "    for e in tqdm.tqdm_notebook(epses):\n",
    "        student[0].weight.data = Ws1.T  + torch.randn(Ws1.T.shape) * e\n",
    "        student[2].weight.data = Ws2.T + torch.randn(Ws2.T.shape) * e\n",
    "    \n",
    "        total = 0\n",
    "        correct = 0\n",
    "        for x,y in test_loader:\n",
    "            #x.requires_grad = True\n",
    "            #student.zero_grad()\n",
    "            #out = student(x)\n",
    "            #loss = crit(out, y)\n",
    "            #loss.backward()\n",
    "            #grad = x.grad\n",
    "            #x = x + torch.sign(grad) * e\n",
    "            out = student(x)\n",
    "            total+=out.shape[0]\n",
    "            correct += torch.eq(out.argmax(1),y).sum()\n",
    "        \n",
    "        yplot2[-1].append(correct/total)"
   ]
  },
  {
   "cell_type": "markdown",
   "id": "fa452ba2",
   "metadata": {},
   "source": [
    "## Net2Net с софтмаксом\n",
    "\n",
    "При обучении оптимизируется критерий ||f(w, x) - f(w + eps, x)|| -> 0, при этом w должно давать те же значения выхода, что и исходной сети.\n",
    "\n"
   ]
  },
  {
   "cell_type": "code",
   "execution_count": null,
   "id": "938e205a",
   "metadata": {},
   "outputs": [],
   "source": [
    "def train_net2net2(Wt1, Wt2, teacher_hidden, student_hidden, out_num,  train_loader, sigma):\n",
    "    weights = torch.nn.Parameter(torch.randn(student_hidden - teacher_hidden, teacher_hidden))\n",
    "    optim = torch.optim.Adam([weights], lr=1e-1)\n",
    "    \n",
    "    \n",
    "    tq = tqdm.tqdm_notebook(train_loader)\n",
    "    losses = []\n",
    "    for x,y in tq:\n",
    "        optim.zero_grad()\n",
    "        weights_sm_ = torch.nn.functional.softmax(weights, dim=1)\n",
    "        weights_sm = torch.cat([torch.eye(teacher_hidden), weights_sm_])\n",
    "        Ws1 = Wt1 @ weights_sm.T\n",
    "        Ws2 = torch.pinverse(weights_sm.T) @ Wt2\n",
    "        Ws1_ = Ws1 + torch.randn(Ws1.shape) * sigma\n",
    "        Ws2_ = Ws2 + torch.randn(Ws2.shape) * sigma\n",
    "        out = torch.nn.functional.relu(x @ Ws1) @ Ws2\n",
    "        out_ = torch.nn.functional.relu(x @ Ws1_) @ Ws2_\n",
    "        loss = ((out - out_)**2).mean()\n",
    "        loss.backward()\n",
    "        optim.step()\n",
    "        losses.append(loss.item())\n",
    "        tq.set_description(str(np.mean(losses[-50:])))\n",
    "    #print (torch.distributions.RelaxedOneHotCategorical(t, logits = weights).probs)\n",
    "    weights_sm = torch.round(weights_sm)\n",
    "    Ws1 = Wt1 @ weights_sm.T\n",
    "    Ws2 = (weights_sm/weights_sm.sum(0)) @ Wt2\n",
    "            \n",
    "    return Ws1, Ws2\n",
    "\n",
    "Ws1, Ws2 = train_net2net2(Wt1, Wt2, teacher_hidden, student_hidden, 10, train_loader, 1e-3)"
   ]
  },
  {
   "cell_type": "code",
   "execution_count": 45,
   "id": "dea063bb",
   "metadata": {},
   "outputs": [
    {
     "name": "stderr",
     "output_type": "stream",
     "text": [
      "<ipython-input-30-36102d92011a>:6: TqdmDeprecationWarning: This function will be removed in tqdm==5.0.0\n",
      "Please use `tqdm.notebook.tqdm` instead of `tqdm.tqdm_notebook`\n",
      "  tq = tqdm.tqdm_notebook(train_loader)\n"
     ]
    },
    {
     "data": {
      "application/vnd.jupyter.widget-view+json": {
       "model_id": "8f547d8628ac4699a578f7c61a1b569c",
       "version_major": 2,
       "version_minor": 0
      },
      "text/plain": [
       "  0%|          | 0/235 [00:00<?, ?it/s]"
      ]
     },
     "metadata": {},
     "output_type": "display_data"
    },
    {
     "name": "stderr",
     "output_type": "stream",
     "text": [
      "<ipython-input-45-9dc35881a84e>:13: TqdmDeprecationWarning: This function will be removed in tqdm==5.0.0\n",
      "Please use `tqdm.notebook.tqdm` instead of `tqdm.tqdm_notebook`\n",
      "  for e in tqdm.tqdm_notebook(epses):\n"
     ]
    },
    {
     "data": {
      "application/vnd.jupyter.widget-view+json": {
       "model_id": "0ebced9b90e1464a9cd3c241b6955c63",
       "version_major": 2,
       "version_minor": 0
      },
      "text/plain": [
       "  0%|          | 0/7 [00:00<?, ?it/s]"
      ]
     },
     "metadata": {},
     "output_type": "display_data"
    }
   ],
   "source": [
    "yplot3 = []\n",
    "epses = [0.0, 0.01, 1e-3, 1e-2, 1e-1, 0.2, 0.3]\n",
    "for _ in range(1):\n",
    "    student = torch.nn.Sequential(torch.nn.Linear(784, student_hidden, bias=False),\n",
    "                                  torch.nn.ReLU(), torch.nn.Linear(student_hidden, 10, bias=False))\n",
    "\n",
    "    Wt1 = teacher[0].weight.T\n",
    "    Wt2 = teacher[2].weight.T\n",
    "    Ws1, Ws2 = train_net2net2(Wt1, Wt2, teacher_hidden, student_hidden, 10, train_loader, 1e-3)\n",
    "\n",
    "    student.eval()\n",
    "    yplot3.append([])\n",
    "    for e in tqdm.tqdm_notebook(epses):\n",
    "        student[0].weight.data = (Ws1.T) + torch.randn(Ws1.T.shape) * e\n",
    "        student[2].weight.data = (Ws2.T) + torch.randn(Ws2.T.shape) * e\n",
    "    \n",
    "        total = 0\n",
    "        correct = 0\n",
    "        for x,y in test_loader:\n",
    "            #x.requires_grad = True\n",
    "            #student.zero_grad()\n",
    "            #out = student(x)\n",
    "            #loss = crit(out, y)\n",
    "            #loss.backward()\n",
    "            #grad = x.grad\n",
    "            #x = x + torch.sign(grad) * e\n",
    "            out = student(x)\n",
    "            total+=out.shape[0]\n",
    "            correct += torch.eq(out.argmax(1),y).sum()\n",
    "        \n",
    "        yplot3[-1].append(correct/total)"
   ]
  },
  {
   "cell_type": "markdown",
   "id": "489bd128",
   "metadata": {},
   "source": [
    "## График"
   ]
  },
  {
   "cell_type": "code",
   "execution_count": 49,
   "id": "ed60a0ca",
   "metadata": {},
   "outputs": [
    {
     "data": {
      "text/plain": [
       "Text(0, 0.5, 'Accuracy')"
      ]
     },
     "execution_count": 49,
     "metadata": {},
     "output_type": "execute_result"
    },
    {
     "data": {
      "image/png": "[encoded data removed]",
      "text/plain": [
       "<Figure size 432x288 with 1 Axes>"
      ]
     },
     "metadata": {
      "needs_background": "light"
     },
     "output_type": "display_data"
    }
   ],
   "source": [
    "plt.plot(epses, np.mean(yplot, 0), label='Net2Net')\n",
    "plt.plot(epses, np.mean(yplot2, 0), label='Net2Net-GS')\n",
    "plt.plot(epses, np.mean(yplot3, 0), label='Net2Net-Softmax')\n",
    "plt.legend(loc='best')\n",
    "plt.xlabel('eps (Noise in parameters)')\n",
    "plt.ylabel('Accuracy')"
   ]
  }
 ],
 "metadata": {
  "kernelspec": {
   "display_name": "Python 3",
   "language": "python",
   "name": "python3"
  },
  "language_info": {
   "codemirror_mode": {
    "name": "ipython",
    "version": 3
   },
   "file_extension": ".py",
   "mimetype": "text/x-python",
   "name": "python",
   "nbconvert_exporter": "python",
   "pygments_lexer": "ipython3",
   "version": "3.8.10"
  }
 },
 "nbformat": 4,
 "nbformat_minor": 5
}
